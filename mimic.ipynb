{
 "cells": [
  {
   "cell_type": "markdown",
   "id": "9814351e",
   "metadata": {},
   "source": [
    "# Mimicking dict exercise\n",
    "\n",
    "Copyright 2010 Google Inc. Licensed under the Apache License, Version 2.0\n",
    "<http://www.apache.org/licenses/LICENSE-2.0>"
   ]
  },
  {
   "cell_type": "markdown",
   "id": "f27bfe36",
   "metadata": {},
   "source": [
    "Google's Python Class:\n",
    "<http://code.google.com/edu/languages/google-python-class/>\n"
   ]
  },
  {
   "cell_type": "markdown",
   "id": "4b6422c3",
   "metadata": {},
   "source": [
    "## Introduction\n",
    "\n",
    "In this exercise, you will create a mimicking dictionary.\n",
    "This dictionary will encode word-pair frequencies, which we will use to\n",
    "emit random text that matches the structure of the source file.\n",
    "\n",
    "First, we will read in the file specified on the command line,\n",
    "and do a simple `split()` on whitespace to obtain all the words in the file.\n",
    "Rather than read the file line by line, it's easier to read\n",
    "it into one giant string and split it once.\n",
    "\n",
    "You will write a function to build a \"mimic\" dict that maps each word that\n",
    "appears in the file to a list of all the words that immediately follow\n",
    "that word in the file.\n",
    "The list of words can be be in any order and should include duplicates.\n",
    "So for example the key `\"and\"` might have the list\n",
    "`[\"then\", \"best\", \"then\", \"after\", ...]` listing all the words which came\n",
    "after \"and\" in the text. We'll say that the empty string is what comes before\n",
    "the first word in the file.\n",
    "\n",
    "With the mimic dict, it's fairly easy to emit random text that mimics the\n",
    "original. Print a word, then look up what words might come next and pick one at\n",
    "random as the next word.\n",
    "Use the empty string as the first word to prime things. If we ever get stuck\n",
    "with a word that is not in the dict, go back to the empty string to keep things\n",
    "moving.\n",
    "\n",
    "Note: the standard python module 'random' includes a\n",
    "random.choice(list) method which picks a random element\n",
    "from a non-empty list.\n",
    "\n",
    "For fun, feed your program to itself as input.\n",
    "Could work on getting it to put in linebreaks around 70\n",
    "columns, so the output looks better."
   ]
  },
  {
   "cell_type": "code",
   "execution_count": null,
   "id": "1caea0b3",
   "metadata": {},
   "outputs": [],
   "source": [
    "import random\n",
    "import sys"
   ]
  },
  {
   "cell_type": "code",
   "execution_count": null,
   "id": "f85f4b1a",
   "metadata": {},
   "outputs": [],
   "source": [
    "def mimic_dict(filename):\n",
    "    \"\"\"Returns mimic dict mapping each word to list of words which follow it.\"\"\"\n",
    "    #- +++your code here+++\n",
    "    return"
   ]
  },
  {
   "cell_type": "code",
   "execution_count": null,
   "id": "11594bbd",
   "metadata": {},
   "outputs": [],
   "source": [
    "def print_mimic(mimic_dict, word):\n",
    "    \"\"\"Given mimic dict and start word, prints 200 random words.\"\"\"\n",
    "    #- +++your code here+++"
   ]
  },
  {
   "cell_type": "code",
   "execution_count": null,
   "id": "63652959",
   "metadata": {},
   "outputs": [],
   "source": [
    "# Provided mimic_file(), calls mimic_dict() and mimic()\n",
    "def mimic_file(filename):\n",
    "    dict = mimic_dict(filename)\n",
    "    print_mimic(dict, '')\n",
    "\n",
    "\n",
    "# Provided main() implements a argument reading\n",
    "def main():\n",
    "    if len(sys.argv) != 2:\n",
    "        print('usage: ./mimic.py file-to-read')\n",
    "        sys.exit(1)\n",
    "\n",
    "    mimic_file(sys.argv[1])"
   ]
  }
 ],
 "metadata": {
  "jupytext": {
   "cell_metadata_filter": "-all",
   "notebook_metadata_filter": "all,-language_info",
   "split_at_heading": true,
   "text_representation": {
    "extension": ".Rmd",
    "format_name": "rmarkdown",
    "format_version": "1.2",
    "jupytext_version": "1.13.7"
   }
  },
  "kernelspec": {
   "display_name": "Python 3",
   "language": "python",
   "name": "python3"
  }
 },
 "nbformat": 4,
 "nbformat_minor": 5
}
